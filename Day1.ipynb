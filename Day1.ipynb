{
  "nbformat": 4,
  "nbformat_minor": 0,
  "metadata": {
    "colab": {
      "provenance": []
    },
    "kernelspec": {
      "name": "python3",
      "display_name": "Python 3"
    },
    "language_info": {
      "name": "python"
    }
  },
  "cells": [
    {
      "cell_type": "code",
      "source": [
        "name=\"Soundarya\"\n",
        "print(f\"My name is {name}\")"
      ],
      "metadata": {
        "colab": {
          "base_uri": "https://localhost:8080/"
        },
        "id": "m0FZ5D85-P9P",
        "outputId": "eaeea0c8-6bac-459c-97a4-400f452375d1"
      },
      "execution_count": null,
      "outputs": [
        {
          "output_type": "stream",
          "name": "stdout",
          "text": [
            "My name is Soundarya\n"
          ]
        }
      ]
    },
    {
      "cell_type": "code",
      "source": [
        "name=\"Soundarya\"\n",
        "print(\"My name is\",name)"
      ],
      "metadata": {
        "colab": {
          "base_uri": "https://localhost:8080/"
        },
        "id": "BdHLnys2_fNH",
        "outputId": "b826298f-3e06-432f-f0ac-12cf6b2bdf0e"
      },
      "execution_count": null,
      "outputs": [
        {
          "output_type": "stream",
          "name": "stdout",
          "text": [
            "My name is Soundarya\n"
          ]
        }
      ]
    },
    {
      "cell_type": "code",
      "source": [
        "name=\"Soundarya\"\n",
        "age=20\n",
        "print(\"Name is \",name)\n",
        "print(\"Age is\",age)"
      ],
      "metadata": {
        "colab": {
          "base_uri": "https://localhost:8080/"
        },
        "id": "MaydN_3I_piH",
        "outputId": "a8228a12-01d4-4a38-dc93-b61e7fa8972c"
      },
      "execution_count": null,
      "outputs": [
        {
          "output_type": "stream",
          "name": "stdout",
          "text": [
            "Name is  Soundarya\n",
            "Age is 20\n"
          ]
        }
      ]
    },
    {
      "cell_type": "markdown",
      "source": [
        "#**Python Syntax & Structure**\n"
      ],
      "metadata": {
        "id": "w404fxQEGown"
      }
    },
    {
      "cell_type": "markdown",
      "source": [
        "#Basic Syntax Rules"
      ],
      "metadata": {
        "id": "w3DDGUopG6QP"
      }
    },
    {
      "cell_type": "code",
      "source": [
        "print(\"Hello,World!\")#Function Call\n",
        "x=5 #Variables\n",
        "y=10 #No need to declare type"
      ],
      "metadata": {
        "colab": {
          "base_uri": "https://localhost:8080/"
        },
        "id": "G9gQNCTCHI4_",
        "outputId": "ceb20b37-cc16-4eda-d606-b095ee19c117"
      },
      "execution_count": null,
      "outputs": [
        {
          "output_type": "stream",
          "name": "stdout",
          "text": [
            "Hello,World!\n"
          ]
        }
      ]
    },
    {
      "cell_type": "markdown",
      "source": [
        "#Python in case-sensitive"
      ],
      "metadata": {
        "id": "xoGfngS_HrRX"
      }
    },
    {
      "cell_type": "code",
      "source": [
        "Name=\"Anu\"\n",
        "name=\"anu\"\n",
        "print(\"Name is\",Name)\n",
        "print(\"Name is\",name)\n",
        "print(Name,name)#Different variables"
      ],
      "metadata": {
        "colab": {
          "base_uri": "https://localhost:8080/"
        },
        "id": "BjXpLSn7Hxh3",
        "outputId": "e4922640-1395-4fb4-b201-567a886bf55b"
      },
      "execution_count": null,
      "outputs": [
        {
          "output_type": "stream",
          "name": "stdout",
          "text": [
            "Name is Anu\n",
            "Name is anu\n",
            "Anu anu\n"
          ]
        }
      ]
    },
    {
      "cell_type": "markdown",
      "source": [
        "##Indentation Matters"
      ],
      "metadata": {
        "id": "uLmrS90TILGv"
      }
    },
    {
      "cell_type": "code",
      "source": [
        "if x>0:\n",
        "  print(\"x is positive\")#4 space indentation\n",
        "  print(\"this is inside the if block\")"
      ],
      "metadata": {
        "colab": {
          "base_uri": "https://localhost:8080/"
        },
        "id": "xyllZ-N5ISVP",
        "outputId": "d553529e-bc05-4819-db89-6126c7c5f82b"
      },
      "execution_count": null,
      "outputs": [
        {
          "output_type": "stream",
          "name": "stdout",
          "text": [
            "x is positive\n",
            "this is inside the if block\n"
          ]
        }
      ]
    },
    {
      "cell_type": "markdown",
      "source": [
        "##Variables & Datatypes"
      ],
      "metadata": {
        "id": "AXxz3e08I2jX"
      }
    },
    {
      "cell_type": "markdown",
      "source": [
        "###Numeric Types"
      ],
      "metadata": {
        "id": "2Yo9g23IJhLm"
      }
    },
    {
      "cell_type": "code",
      "source": [
        "age=25 # int\n",
        "height=5.6 #float\n",
        "complex_num=2+3j #compelx"
      ],
      "metadata": {
        "id": "eXFhfcVpJlr2"
      },
      "execution_count": null,
      "outputs": []
    },
    {
      "cell_type": "markdown",
      "source": [
        "###string Types"
      ],
      "metadata": {
        "id": "VgQuwWpIJ6v_"
      }
    },
    {
      "cell_type": "code",
      "source": [
        "name=\"Anu\"\n",
        "message='Hello World'\n",
        "multiline=\"\"\"This is a\n",
        "              multiline string type\"\"\""
      ],
      "metadata": {
        "id": "8ukKCEXIJ9Pe"
      },
      "execution_count": null,
      "outputs": []
    },
    {
      "cell_type": "markdown",
      "source": [
        "###Boolean types"
      ],
      "metadata": {
        "id": "VQtNZ5PaKhDP"
      }
    },
    {
      "cell_type": "code",
      "source": [
        "is_active=True\n",
        "is_finished=False"
      ],
      "metadata": {
        "id": "RT9zaEGBNR8H"
      },
      "execution_count": null,
      "outputs": []
    },
    {
      "cell_type": "markdown",
      "source": [
        "###Type Checking"
      ],
      "metadata": {
        "id": "siQ3H-a6NfMG"
      }
    },
    {
      "cell_type": "code",
      "source": [
        "print(type(age))#<class 'int'>\n",
        "print(type(height))#<class 'float'>\n",
        "print(type(name))#<class 'str'>\n"
      ],
      "metadata": {
        "colab": {
          "base_uri": "https://localhost:8080/"
        },
        "id": "41X47ABUNjTW",
        "outputId": "a9287625-e498-427e-91e5-c96f456b4e6a"
      },
      "execution_count": null,
      "outputs": [
        {
          "output_type": "stream",
          "name": "stdout",
          "text": [
            "<class 'int'>\n",
            "<class 'float'>\n",
            "<class 'str'>\n"
          ]
        }
      ]
    },
    {
      "cell_type": "markdown",
      "source": [
        "###Type Conversion"
      ],
      "metadata": {
        "id": "CGngMPxSN8Au"
      }
    },
    {
      "cell_type": "code",
      "source": [
        "str_number=123\n",
        "int_number=int(str_number)\n",
        "float_number=float(str_number)\n",
        "\n",
        "print(f\"Original:{str_number} (type:{type(str_number)})\")\n",
        "print(f\"Integer:{int_number} (type:{type(int_number)})\")\n",
        "print(f\"Float:{float_number} (type:{type(float_number)})\")"
      ],
      "metadata": {
        "colab": {
          "base_uri": "https://localhost:8080/"
        },
        "id": "hdXYwkKBOAU3",
        "outputId": "ecaa1953-b3b4-4911-d573-b3ca68b5f8cd"
      },
      "execution_count": null,
      "outputs": [
        {
          "output_type": "stream",
          "name": "stdout",
          "text": [
            "Original:123 (type:<class 'int'>)\n",
            "Integer:123 (type:<class 'int'>)\n",
            "Float:123.0 (type:<class 'float'>)\n"
          ]
        }
      ]
    },
    {
      "cell_type": "markdown",
      "source": [
        "#**Hands-on Exercise**"
      ],
      "metadata": {
        "id": "A944wuEDgAln"
      }
    },
    {
      "cell_type": "markdown",
      "source": [
        "Exercise 1:Personal Information"
      ],
      "metadata": {
        "id": "RJ1xNoZagbWf"
      }
    },
    {
      "cell_type": "markdown",
      "source": [
        "###Create Variables for persnal Informations"
      ],
      "metadata": {
        "id": "jHR2lWA4gk1v"
      }
    },
    {
      "cell_type": "code",
      "source": [
        "first_name=\"Soundarya\"\n",
        "last_name=\"Pawar\"\n",
        "age=20\n",
        "height=5.5\n",
        "is_student=True"
      ],
      "metadata": {
        "id": "PEe-_EFTiBIm"
      },
      "execution_count": null,
      "outputs": []
    },
    {
      "cell_type": "markdown",
      "source": [
        "###print formatted information"
      ],
      "metadata": {
        "id": "f1ssx4AZiZzn"
      }
    },
    {
      "cell_type": "code",
      "source": [
        "print(f\"Name:{first_name} {last_name}\")\n",
        "print(f\"Age:{age}\")\n",
        "print(f\"Height:{height}\")\n",
        "print(f\"Student:{is_student}\")"
      ],
      "metadata": {
        "colab": {
          "base_uri": "https://localhost:8080/"
        },
        "id": "cRFBjDGvieYW",
        "outputId": "77bc6aa4-5b3d-447b-ba26-da47c41e18b9"
      },
      "execution_count": null,
      "outputs": [
        {
          "output_type": "stream",
          "name": "stdout",
          "text": [
            "Name:Soundarya Pawar\n",
            "Age:20\n",
            "Height:5.5\n",
            "Student:True\n"
          ]
        }
      ]
    },
    {
      "cell_type": "markdown",
      "source": [
        "###Type conversions"
      ],
      "metadata": {
        "id": "HQ39zzk8kDY2"
      }
    },
    {
      "cell_type": "code",
      "source": [
        "age_str=str(age)\n",
        "height_int=int(height)\n",
        "print(f\"Age as string:{age_str}\")\n",
        "print(f\"Height as string:{height_int}\")"
      ],
      "metadata": {
        "colab": {
          "base_uri": "https://localhost:8080/"
        },
        "id": "DFnGudzPkHkv",
        "outputId": "1187a31b-0f91-4bad-9812-b6298d470900"
      },
      "execution_count": null,
      "outputs": [
        {
          "output_type": "stream",
          "name": "stdout",
          "text": [
            "Age as string:20\n",
            "Height as string:5\n"
          ]
        }
      ]
    },
    {
      "cell_type": "markdown",
      "source": [
        "###Operators & Basic Operations"
      ],
      "metadata": {
        "id": "d1dLAqhVkwr-"
      }
    },
    {
      "cell_type": "markdown",
      "source": [
        "####Arithmetic Operatior"
      ],
      "metadata": {
        "id": "S1hwdogfmcem"
      }
    },
    {
      "cell_type": "code",
      "source": [
        "a=10\n",
        "b=3\n",
        "\n",
        "print(f\"Addition: {a}+{b}={a+b}\")\n",
        "print(f\"Subtraction: {a}-{b}={a-b}\")\n",
        "print(f\"Multiplication: {a}*{b}={a*b}\")\n",
        "print(f\"Division: {a}/{b}={a/b}\")\n",
        "print(f\"Floor division: {a}//{b}={a//b}\")\n",
        "print(f\"Modulus: {a}%{b}={a%b}\")\n",
        "print(f\"Exponentiation: {a}**{b}={a**b}\")"
      ],
      "metadata": {
        "colab": {
          "base_uri": "https://localhost:8080/"
        },
        "id": "c5OAl-3LlFEm",
        "outputId": "702699be-2558-47a4-88d3-034f72038c27"
      },
      "execution_count": null,
      "outputs": [
        {
          "output_type": "stream",
          "name": "stdout",
          "text": [
            "Addition: 10+3=13\n",
            "Subtraction: 10-3=7\n",
            "Multiplication: 10*3=30\n",
            "Division: 10/3=3.3333333333333335\n",
            "Floor division: 10//3=3\n",
            "Modulus: 10%3=1\n",
            "Exponentiation: 10**3=1000\n"
          ]
        }
      ]
    },
    {
      "cell_type": "markdown",
      "source": [
        "###Order of Operator\n",
        "\n",
        "*   P-Parentheses\n",
        "*   E-Exponents\n",
        "*   M-Multiplication\n",
        "*   D-Division\n",
        "*   A-Addition\n",
        "*   S-Subtraction\n",
        "\n",
        "\n",
        "\n",
        "\n",
        "\n"
      ],
      "metadata": {
        "id": "SLSBEmBIoRoO"
      }
    },
    {
      "cell_type": "code",
      "source": [
        "result=2+3*4**2-1\n",
        "print(f\"2+3*4**2-1={result}\")"
      ],
      "metadata": {
        "colab": {
          "base_uri": "https://localhost:8080/"
        },
        "id": "6D8SnPfGo0xu",
        "outputId": "1076c007-1e09-4334-c640-f2585640617a"
      },
      "execution_count": null,
      "outputs": [
        {
          "output_type": "stream",
          "name": "stdout",
          "text": [
            "2+3*4**2-1=49\n"
          ]
        }
      ]
    },
    {
      "cell_type": "markdown",
      "source": [
        "###Relational or Comparison operator"
      ],
      "metadata": {
        "id": "vjLJ0fULnpRm"
      }
    },
    {
      "cell_type": "code",
      "source": [
        "x=5\n",
        "y=10\n",
        "\n",
        "print(f\"{x}=={y}:{x==y}\")#Equal to\n",
        "print(f\"{x}!={y}:{x!=y}\")#Not equal to\n",
        "print(f\"{x}<{y}:{x<y}\")#less than\n",
        "print(f\"{x}>{y}:{x>y}\")#Greater than\n",
        "print(f\"{x}<={y}:{x<=y}\")#less than or equal\n",
        "print(f\"{x}>={y}:{x>=y}\")#greater than or equal"
      ],
      "metadata": {
        "colab": {
          "base_uri": "https://localhost:8080/"
        },
        "id": "joY-EnPPn4k-",
        "outputId": "208688aa-f4e2-445e-b488-471e6f59abb7"
      },
      "execution_count": null,
      "outputs": [
        {
          "output_type": "stream",
          "name": "stdout",
          "text": [
            "5==10:False\n",
            "5!=10:True\n",
            "5<10:True\n",
            "5>10:False\n",
            "5<=10:True\n",
            "5>=10:False\n"
          ]
        }
      ]
    },
    {
      "cell_type": "markdown",
      "source": [
        "###String Operator"
      ],
      "metadata": {
        "id": "5YyfbiVitjtW"
      }
    },
    {
      "cell_type": "code",
      "source": [
        "name1=\"Alice\"\n",
        "name2=\"Bob\"\n",
        "print(f\"'{name1}'<'{name2}':{name1<name2}\")#Alphabetical"
      ],
      "metadata": {
        "colab": {
          "base_uri": "https://localhost:8080/"
        },
        "id": "i2pzmP6Atm9u",
        "outputId": "43d5d624-bc0c-41c5-de1e-c326ac89c489"
      },
      "execution_count": null,
      "outputs": [
        {
          "output_type": "stream",
          "name": "stdout",
          "text": [
            "'Alice'<'Bob':True\n"
          ]
        }
      ]
    },
    {
      "cell_type": "markdown",
      "source": [
        "###Logical Operator"
      ],
      "metadata": {
        "id": "xfUBRU6LvFGm"
      }
    },
    {
      "cell_type": "code",
      "source": [
        "p=True\n",
        "q=False\n",
        "\n",
        "print(f\"p and q:{p and q}\")#both must be True\n",
        "print(f\"p or q:{p or q}\")#atleast one must btrue\n",
        "print(f\"not p:{not p}\")#opposite of p"
      ],
      "metadata": {
        "colab": {
          "base_uri": "https://localhost:8080/"
        },
        "id": "szbAKdXIvJl-",
        "outputId": "e09f72c6-88d8-46f5-c5d6-1b23cbd47f1e"
      },
      "execution_count": null,
      "outputs": [
        {
          "output_type": "stream",
          "name": "stdout",
          "text": [
            "p and q:False\n",
            "p or q:True\n",
            "not p:False\n"
          ]
        }
      ]
    },
    {
      "cell_type": "code",
      "source": [
        "#Practical Example\n",
        "age=20\n",
        "has_license=True\n",
        "can_drive=age>=18 and has_license\n",
        "print(f\"can drive:{can_drive}\")"
      ],
      "metadata": {
        "colab": {
          "base_uri": "https://localhost:8080/"
        },
        "id": "X6rtz2J6wiDO",
        "outputId": "d42aea9f-ed87-41a2-bb82-ea798e2caba8"
      },
      "execution_count": null,
      "outputs": [
        {
          "output_type": "stream",
          "name": "stdout",
          "text": [
            "can drive:True\n"
          ]
        }
      ]
    },
    {
      "cell_type": "code",
      "source": [
        "#Multiple conditions\n",
        "score=85\n",
        "is_present=True\n",
        "can_pass=score>=80 and is_present\n",
        "print(f\"can pass:{can_pass}\")"
      ],
      "metadata": {
        "colab": {
          "base_uri": "https://localhost:8080/"
        },
        "id": "KVxvC9GbxV1t",
        "outputId": "0a3ddc19-49f5-4fa9-d03d-17971b9f5185"
      },
      "execution_count": null,
      "outputs": [
        {
          "output_type": "stream",
          "name": "stdout",
          "text": [
            "can pass:True\n"
          ]
        }
      ]
    },
    {
      "cell_type": "markdown",
      "source": [
        "#**Hands-on Exercise**\n",
        "\n",
        "Exerise 2:Simple Calculator\n",
        "\n",
        "Create a calculator that checks if a person qualifies for a loan"
      ],
      "metadata": {
        "id": "XptFjH-wyirF"
      }
    },
    {
      "cell_type": "code",
      "source": [
        "#Personal Information\n",
        "age=25\n",
        "annual_income=50000\n",
        "credit_score=750\n",
        "has_collateral=True\n"
      ],
      "metadata": {
        "id": "qUmoJU1uysT-"
      },
      "execution_count": null,
      "outputs": []
    },
    {
      "cell_type": "code",
      "source": [
        "# Loan criteria\n",
        "min_age=18\n",
        "min_income=30000\n",
        "min_credit_score=650"
      ],
      "metadata": {
        "id": "4RRmGkyhzigl"
      },
      "execution_count": null,
      "outputs": []
    },
    {
      "cell_type": "code",
      "source": [
        "#Check qualification\n",
        "age_qualified=age>=min_age\n",
        "income_qualified=annual_income>=min_income\n",
        "credit_qualified=credit_score>=min_credit_score\n",
        "overall_qualified=age_qualified and income_qualified and credit_qualified"
      ],
      "metadata": {
        "id": "KJ3y128Q5atF"
      },
      "execution_count": null,
      "outputs": []
    },
    {
      "cell_type": "code",
      "source": [
        "age=25\n",
        "annual_income=50000\n",
        "credit_score=650\n",
        "has_collateral=True\n",
        "can_age=age>=18 and has_collateral\n",
        "income_for=annual_income>30000 and has_collateral\n",
        "can_loan=credit_score>650 and has_collateral\n",
        "print(f\"can_age:{can_age}\")\n",
        "print(f\"Annual-income:{income_for}\")\n",
        "print(f\"can_loan:{can_loan}\")\n",
        "\n",
        "\n"
      ],
      "metadata": {
        "colab": {
          "base_uri": "https://localhost:8080/"
        },
        "id": "Ia_qzysc0aum",
        "outputId": "5f79e199-adf9-4778-8dc1-e0e9b76f298b"
      },
      "execution_count": null,
      "outputs": [
        {
          "output_type": "stream",
          "name": "stdout",
          "text": [
            "can_age:True\n",
            "Annual-income:True\n",
            "can_loan:False\n"
          ]
        }
      ]
    },
    {
      "cell_type": "markdown",
      "source": [
        "#**Data Structure**"
      ],
      "metadata": {
        "id": "65_Rq_RC-6TV"
      }
    },
    {
      "cell_type": "markdown",
      "source": [
        "##**List**"
      ],
      "metadata": {
        "id": "FfnJf2XZ_aw1"
      }
    },
    {
      "cell_type": "markdown",
      "source": [
        "###Creating lists"
      ],
      "metadata": {
        "id": "_O6Mvp2P_KQF"
      }
    },
    {
      "cell_type": "code",
      "source": [
        "fruits=[\"Apple\",\"Banana\",\"Orange\",\"Grape\"]\n",
        "numbers=[10,20,30,40,50]\n",
        "mixed_data=[1,\"Hello\",3.142,True]"
      ],
      "metadata": {
        "id": "JlSoJVfE_QXN"
      },
      "execution_count": null,
      "outputs": []
    },
    {
      "cell_type": "markdown",
      "source": [
        "#List Indexing(O-based)"
      ],
      "metadata": {
        "id": "MFezue59_3CU"
      }
    },
    {
      "cell_type": "code",
      "source": [
        "print(f\"First fruit:{fruits[0]}\")\n",
        "print(f\"Last fruit:{fruits[-1]}\")\n",
        "print(f\"Second to last:{fruits[-2]}\")"
      ],
      "metadata": {
        "colab": {
          "base_uri": "https://localhost:8080/"
        },
        "id": "bMccWzu9_-aV",
        "outputId": "7e73e578-70b9-45d8-e3fd-f1faae56c2b9"
      },
      "execution_count": null,
      "outputs": [
        {
          "output_type": "stream",
          "name": "stdout",
          "text": [
            "First fruit:Apple\n",
            "Last fruit:Grape\n",
            "Second to last:Orange\n"
          ]
        }
      ]
    },
    {
      "cell_type": "markdown",
      "source": [
        "##List slicing"
      ],
      "metadata": {
        "id": "eFE18QB3Axhu"
      }
    },
    {
      "cell_type": "code",
      "source": [
        "print(f\"First fruit:{fruits[0:2]}\")\n",
        "print(f\"Last fruit:{fruits[-2:]}\")\n",
        "print(f\"All except first:{fruits[1:]}\")"
      ],
      "metadata": {
        "colab": {
          "base_uri": "https://localhost:8080/"
        },
        "id": "7I39HKCfAwMF",
        "outputId": "6cb9e02d-99c2-4b71-a755-cd2aa7dc73ae"
      },
      "execution_count": null,
      "outputs": [
        {
          "output_type": "stream",
          "name": "stdout",
          "text": [
            "First fruit:['Apple', 'Banana']\n",
            "Last fruit:['Orange', 'Grape']\n",
            "All except first:['Banana', 'Orange', 'Grape']\n"
          ]
        }
      ]
    },
    {
      "cell_type": "markdown",
      "source": [
        "##List Methods"
      ],
      "metadata": {
        "id": "_Cx4a96pBJxk"
      }
    },
    {
      "cell_type": "code",
      "source": [
        "fruits.append(\"kiwi\")#add to end\n",
        "fruits.insert(1,\"Strawberry\")#insert at index\n",
        "removed=fruits.pop()#remove list\n",
        "print(f\"update list:{fruits}\")\n",
        "print(f\"removed:{removed}\")"
      ],
      "metadata": {
        "colab": {
          "base_uri": "https://localhost:8080/"
        },
        "id": "7bQLtxzPBM8E",
        "outputId": "e6006527-31ea-4c65-f176-62865a03bcd6"
      },
      "execution_count": null,
      "outputs": [
        {
          "output_type": "stream",
          "name": "stdout",
          "text": [
            "update list:['Apple', 'Strawberry', 'Banana', 'Orange', 'Grape']\n",
            "removed:kiwi\n"
          ]
        }
      ]
    },
    {
      "cell_type": "markdown",
      "source": [
        "##List Operations"
      ],
      "metadata": {
        "id": "G80jatYYB99E"
      }
    },
    {
      "cell_type": "code",
      "source": [
        "print(f\"length:{len(fruits)}\")\n",
        "print(f\"contains 'Apple':{'Apple' in fruits}\")\n",
        "print(f\"index of 'Banana':{fruits.index('Banana')}\")"
      ],
      "metadata": {
        "colab": {
          "base_uri": "https://localhost:8080/"
        },
        "id": "V-arGpKPCFfE",
        "outputId": "42cc76b6-55c7-46d2-87f5-8614993d37ac"
      },
      "execution_count": null,
      "outputs": [
        {
          "output_type": "stream",
          "name": "stdout",
          "text": [
            "length:5\n",
            "contains 'Apple':True\n",
            "index of 'Banana':2\n"
          ]
        }
      ]
    },
    {
      "cell_type": "markdown",
      "source": [
        "#**Tuples**"
      ],
      "metadata": {
        "id": "2qoxQoR1DVbM"
      }
    },
    {
      "cell_type": "markdown",
      "source": [
        "###Tuples are Immutable"
      ],
      "metadata": {
        "id": "c2L6Dq-aDbMF"
      }
    },
    {
      "cell_type": "code",
      "source": [
        "coordinates=(10,20)\n",
        "rgb_color=(255,128,0)\n",
        "person_info=(\"Alice\",25,\"Engineer\",True)\n"
      ],
      "metadata": {
        "id": "A9uoRrbJDiQt"
      },
      "execution_count": null,
      "outputs": []
    },
    {
      "cell_type": "markdown",
      "source": [
        "###Tuple Unpacking"
      ],
      "metadata": {
        "id": "-MhWwEoZD5O9"
      }
    },
    {
      "cell_type": "code",
      "source": [
        "x,y=coordinates\n",
        "print(f\"x:{x},y:{y}\")"
      ],
      "metadata": {
        "colab": {
          "base_uri": "https://localhost:8080/"
        },
        "id": "ITcX_PaQEHJU",
        "outputId": "ff56ce4a-2732-4d1b-d440-62f38c61a365"
      },
      "execution_count": null,
      "outputs": [
        {
          "output_type": "stream",
          "name": "stdout",
          "text": [
            "x:10,y:20\n"
          ]
        }
      ]
    },
    {
      "cell_type": "markdown",
      "source": [
        "##Tuple Methods"
      ],
      "metadata": {
        "id": "QxHb6bV9FSgE"
      }
    },
    {
      "cell_type": "code",
      "source": [
        "print(f\"Count of 25:{person_info.count(25)}\")\n",
        "print(f\"index of 'Engineer':{person_info.index('Engineer')}\")"
      ],
      "metadata": {
        "colab": {
          "base_uri": "https://localhost:8080/"
        },
        "id": "pmdQ6VXuFXcc",
        "outputId": "b630f627-9b99-44d8-dd31-fee1ad04f050"
      },
      "execution_count": null,
      "outputs": [
        {
          "output_type": "stream",
          "name": "stdout",
          "text": [
            "Count of 25:1\n",
            "index of 'Engineer':2\n"
          ]
        }
      ]
    },
    {
      "cell_type": "markdown",
      "source": [
        "####Why use Tuples?\n",
        "\n",
        "\n",
        "\n",
        "*  Immutable(safe for dictionary keys)\n",
        "*  Slightly faster than list\n",
        "*  Good for fixed collections\n",
        "\n"
      ],
      "metadata": {
        "id": "AErSM2h8FtHc"
      }
    },
    {
      "cell_type": "markdown",
      "source": [
        "#**Dictionaries**"
      ],
      "metadata": {
        "id": "CBVHEOD8EOjf"
      }
    },
    {
      "cell_type": "markdown",
      "source": [
        "###Dictionary creation"
      ],
      "metadata": {
        "id": "KD9UEZjMEYl_"
      }
    },
    {
      "cell_type": "code",
      "source": [
        "person={\n",
        "    \"name\":\"Alice\",\n",
        "    \"age\":23,\n",
        "    \"profession\":\"Software Engineer\",\n",
        "    \"salary\":35000,\n",
        "    \"skills\":[\"Python\",\"Javascript\",\"SQL\"]\n",
        "}"
      ],
      "metadata": {
        "id": "wIthlloUEh9Q"
      },
      "execution_count": null,
      "outputs": []
    },
    {
      "cell_type": "markdown",
      "source": [
        "###Accessing Values"
      ],
      "metadata": {
        "id": "Jy1s34VaFJg4"
      }
    },
    {
      "cell_type": "code",
      "source": [
        "print(f\"Name:{person['name']}\")\n",
        "print(f\"Age:{person.get('age','unknow')}\")#Safe access"
      ],
      "metadata": {
        "colab": {
          "base_uri": "https://localhost:8080/"
        },
        "id": "s_nuTuA5FPrX",
        "outputId": "d3c6285f-0954-4115-b98a-46908661c4ec"
      },
      "execution_count": null,
      "outputs": [
        {
          "output_type": "stream",
          "name": "stdout",
          "text": [
            "Name:Alice\n",
            "Age:23\n"
          ]
        }
      ]
    },
    {
      "cell_type": "markdown",
      "source": [
        "###Dictionary Methods"
      ],
      "metadata": {
        "id": "E6bpYsYCFm1w"
      }
    },
    {
      "cell_type": "code",
      "source": [
        "print(f\"Keys:{list(person.keys())}\")\n",
        "print(f\"Values:{list(person.values())}\")\n",
        "print(f\"Items:{list(person.items())}\")"
      ],
      "metadata": {
        "colab": {
          "base_uri": "https://localhost:8080/"
        },
        "id": "grHDkxxIFtlv",
        "outputId": "3bd79cc8-5f4e-4a13-c1cd-86bd20545bf8"
      },
      "execution_count": null,
      "outputs": [
        {
          "output_type": "stream",
          "name": "stdout",
          "text": [
            "Keys:['name', 'age', 'profession', 'salary', 'skills']\n",
            "Values:['Alice', 23, 'Software Engineer', 35000, ['Python', 'Javascript', 'SQL']]\n",
            "Items:[('name', 'Alice'), ('age', 23), ('profession', 'Software Engineer'), ('salary', 35000), ('skills', ['Python', 'Javascript', 'SQL'])]\n"
          ]
        }
      ]
    },
    {
      "cell_type": "markdown",
      "source": [
        "###Adding/Update"
      ],
      "metadata": {
        "id": "HdBzV0BmGOR_"
      }
    },
    {
      "cell_type": "code",
      "source": [
        "person[\"location\"]=\"New York\"\n",
        "person[\"salary\"]=80000 #update Existing"
      ],
      "metadata": {
        "id": "Tjbc9HMQGTwf"
      },
      "execution_count": null,
      "outputs": []
    },
    {
      "cell_type": "markdown",
      "source": [
        "###pratical use case:Inventory management"
      ],
      "metadata": {
        "id": "Kzl7sH8IGj-Y"
      }
    },
    {
      "cell_type": "code",
      "source": [
        "inventory={\n",
        "    \"laptop\":{\n",
        "        \"quantity\":50,\n",
        "        \"price\":999.99\n",
        "        },\n",
        "    \"phones\":{\n",
        "        \"quantity\":100,\n",
        "        \"price\":599.99\n",
        "    },\n",
        "    \"tables\":{\n",
        "        \"quantity\":30,\n",
        "        \"price\":399.99\n",
        "    }\n",
        "}"
      ],
      "metadata": {
        "id": "el-XSFz3GuDg"
      },
      "execution_count": null,
      "outputs": []
    },
    {
      "cell_type": "markdown",
      "source": [
        "###Nested access"
      ],
      "metadata": {
        "id": "0duwPgOfHdlH"
      }
    },
    {
      "cell_type": "code",
      "source": [
        "print(f\"Laptop price:${inventory['laptop']['price']}\")\n"
      ],
      "metadata": {
        "colab": {
          "base_uri": "https://localhost:8080/"
        },
        "id": "YuOG-QQRHhuQ",
        "outputId": "3af5c27c-9533-4c8f-e9bb-e653f686602f"
      },
      "execution_count": null,
      "outputs": [
        {
          "output_type": "stream",
          "name": "stdout",
          "text": [
            "Laptop price:$999.99\n"
          ]
        }
      ]
    },
    {
      "cell_type": "markdown",
      "source": [
        "#**Sets**"
      ],
      "metadata": {
        "id": "f3XyeZujHu9f"
      }
    },
    {
      "cell_type": "markdown",
      "source": [
        "####Sets contain unique elements"
      ],
      "metadata": {
        "id": "qaCJsIvMHyG_"
      }
    },
    {
      "cell_type": "code",
      "source": [
        "colors={\"Red\",\"Green\",\"Blue\",\"Red\"}#Duplicates removed\n",
        "print(f\"Colors:{colors}\")"
      ],
      "metadata": {
        "colab": {
          "base_uri": "https://localhost:8080/"
        },
        "id": "y3-aPOnvH4If",
        "outputId": "ed1e7af6-148e-467f-86ad-84f4051a75fe"
      },
      "execution_count": null,
      "outputs": [
        {
          "output_type": "stream",
          "name": "stdout",
          "text": [
            "Colors:{'Blue', 'Red', 'Green'}\n"
          ]
        }
      ]
    },
    {
      "cell_type": "markdown",
      "source": [
        "###Set Operations"
      ],
      "metadata": {
        "id": "EkNcRWA7IKmA"
      }
    },
    {
      "cell_type": "code",
      "source": [
        "team1_skills={\"Python\",\"Javascript\",\"SQL\",\"React\"}\n",
        "team2_skills={\"Javascript\",\"SQL\",\"Java\",\"spring\"}"
      ],
      "metadata": {
        "id": "8l7jQkFzINo_"
      },
      "execution_count": null,
      "outputs": []
    },
    {
      "cell_type": "markdown",
      "source": [
        "###Common Operations"
      ],
      "metadata": {
        "id": "bKfi5l5bKjqQ"
      }
    },
    {
      "cell_type": "code",
      "source": [
        "print(f\"Common_skills:{team1_skills.intersection(team2_skills)}\")\n",
        "print(f\"All_skills:{team1_skills.union(team2_skills)}\")\n",
        "print(f\"Team1_only:{team1_skills.difference(team2_skills)}\")"
      ],
      "metadata": {
        "colab": {
          "base_uri": "https://localhost:8080/"
        },
        "id": "Z3_bwg3zKmtP",
        "outputId": "c06f1d95-ab88-4ff1-f523-e83ddf904215"
      },
      "execution_count": null,
      "outputs": [
        {
          "output_type": "stream",
          "name": "stdout",
          "text": [
            "Common_skills:{'Javascript', 'SQL'}\n",
            "All_skills:{'React', 'spring', 'SQL', 'Java', 'Javascript', 'Python'}\n",
            "Team1_only:{'React', 'Python'}\n"
          ]
        }
      ]
    },
    {
      "cell_type": "markdown",
      "source": [
        "###Adding to sets"
      ],
      "metadata": {
        "id": "EmMFkjV0LYFv"
      }
    },
    {
      "cell_type": "code",
      "source": [
        "colors.add(\"Yellow\")\n",
        "colors.update([\"Purple\",\"Orange\"])\n",
        "print(f\"Update colors:{colors}\")"
      ],
      "metadata": {
        "colab": {
          "base_uri": "https://localhost:8080/"
        },
        "id": "cR-C-Vy-LbGA",
        "outputId": "56e781bb-d88b-470c-888c-ad51200c354d"
      },
      "execution_count": null,
      "outputs": [
        {
          "output_type": "stream",
          "name": "stdout",
          "text": [
            "Update colors:{'Purple', 'Red', 'Yellow', 'Blue', 'Green', 'Orange'}\n"
          ]
        }
      ]
    },
    {
      "cell_type": "markdown",
      "source": [
        "#**Control Flow**"
      ],
      "metadata": {
        "id": "_27o8-IxNO7_"
      }
    },
    {
      "cell_type": "markdown",
      "source": [
        "##Conditonal Statements"
      ],
      "metadata": {
        "id": "3UpeGlxmNaWQ"
      }
    },
    {
      "cell_type": "markdown",
      "source": [
        "###Basic if-else"
      ],
      "metadata": {
        "id": "54S5F6boNk6I"
      }
    },
    {
      "cell_type": "code",
      "source": [
        "def get_grade_letter(score):\n",
        "  if score>=90:\n",
        "    return \"A\"\n",
        "  elif score>=80:\n",
        "    return \"B\"\n",
        "  elif score>=70:\n",
        "    return \"C\"\n",
        "  elif score>=60:\n",
        "    return \"D\"\n",
        "  else:\n",
        "    return \"F\""
      ],
      "metadata": {
        "id": "Bkfu1YCVNqLI"
      },
      "execution_count": null,
      "outputs": []
    },
    {
      "cell_type": "markdown",
      "source": [
        "###Test the function"
      ],
      "metadata": {
        "id": "CAQVi-qCQTTY"
      }
    },
    {
      "cell_type": "code",
      "source": [
        "test_scores=[95,83,72,65,58]\n",
        "for score in test_scores:\n",
        "  grade=get_grade_letter(score)\n",
        "  print(f\"Score{score}:Grade{grade}\")"
      ],
      "metadata": {
        "colab": {
          "base_uri": "https://localhost:8080/"
        },
        "id": "8Q3bA4TFQWtc",
        "outputId": "d3b432f8-42d1-4dcd-eca7-1cddf5d0d117"
      },
      "execution_count": null,
      "outputs": [
        {
          "output_type": "stream",
          "name": "stdout",
          "text": [
            "Score95:GradeA\n",
            "Score83:GradeB\n",
            "Score72:GradeC\n",
            "Score65:GradeD\n",
            "Score58:GradeF\n"
          ]
        }
      ]
    },
    {
      "cell_type": "markdown",
      "source": [
        "###Nested Conditions"
      ],
      "metadata": {
        "id": "n9x6AsyvRFmJ"
      }
    },
    {
      "cell_type": "code",
      "source": [
        "def get_shipping_cost(weight,distance):\n",
        "  base_cost=5.0\n",
        "\n",
        "  if weight<=1:\n",
        "    weight_cost=2.0\n",
        "  elif weight<=5:\n",
        "    weight_cost=5.0\n",
        "  else:\n",
        "    weight_cost=10.0\n",
        "\n",
        "  if distance<=100:\n",
        "    distance_cost=1.0\n",
        "  elif distance<=500:\n",
        "    distance_cost=3.0\n",
        "  else:\n",
        "    distance_cost=7.0\n",
        "  return base_cost+weight_cost+distance_cost"
      ],
      "metadata": {
        "id": "U-i2oLwyRJWY"
      },
      "execution_count": null,
      "outputs": []
    },
    {
      "cell_type": "markdown",
      "source": [
        "###Test Shipping Costs"
      ],
      "metadata": {
        "id": "mHiPd2DJSfbu"
      }
    },
    {
      "cell_type": "code",
      "source": [
        "print(f\"Light,close:${get_shipping_cost(0.5,50)}\")\n",
        "print(f\"Heavy,far:${get_shipping_cost(10,800)}\")"
      ],
      "metadata": {
        "colab": {
          "base_uri": "https://localhost:8080/"
        },
        "id": "eLadMZDiSkc4",
        "outputId": "3b56232d-2f0d-4a7a-bbc4-359e41103196"
      },
      "execution_count": null,
      "outputs": [
        {
          "output_type": "stream",
          "name": "stdout",
          "text": [
            "Light,close:$8.0\n",
            "Heavy,far:$22.0\n"
          ]
        }
      ]
    },
    {
      "cell_type": "markdown",
      "source": [
        "#Loops-For Loop"
      ],
      "metadata": {
        "id": "PqC0RTqXTYlo"
      }
    },
    {
      "cell_type": "markdown",
      "source": [
        "####Basic For Loop"
      ],
      "metadata": {
        "id": "0iBvQgC0USep"
      }
    },
    {
      "cell_type": "code",
      "source": [
        "fruits=[\"Apple\",\"Banana\",\"Orange\",\"Grape\"]\n",
        "for fruit in fruits:\n",
        "  print(f\"I like {fruit}\")"
      ],
      "metadata": {
        "colab": {
          "base_uri": "https://localhost:8080/"
        },
        "id": "qokDrK5_Th5y",
        "outputId": "7e3823a0-3896-4dcd-bcae-8265bb20cc31"
      },
      "execution_count": null,
      "outputs": [
        {
          "output_type": "stream",
          "name": "stdout",
          "text": [
            "I like Apple\n",
            "I like Banana\n",
            "I like Orange\n",
            "I like Grape\n"
          ]
        }
      ]
    },
    {
      "cell_type": "markdown",
      "source": [
        "##Loop With Enumerate(get index)"
      ],
      "metadata": {
        "id": "muGiRPE8Wwg4"
      }
    },
    {
      "cell_type": "code",
      "source": [
        "for i,fruit in enumerate(fruits):\n",
        "  print(f\"{i+1}.{fruit}\")"
      ],
      "metadata": {
        "colab": {
          "base_uri": "https://localhost:8080/"
        },
        "id": "wc7n6xamW5rY",
        "outputId": "85239e95-8def-470a-9c77-1dffe904d46f"
      },
      "execution_count": null,
      "outputs": [
        {
          "output_type": "stream",
          "name": "stdout",
          "text": [
            "1.Apple\n",
            "2.Banana\n",
            "3.Orange\n",
            "4.Grape\n"
          ]
        }
      ]
    },
    {
      "cell_type": "markdown",
      "source": [
        "##Loop with range"
      ],
      "metadata": {
        "id": "WZVArZd9XY83"
      }
    },
    {
      "cell_type": "code",
      "source": [
        "for day in range(1,8):\n",
        "  print(f\"day {day} of the week\")"
      ],
      "metadata": {
        "colab": {
          "base_uri": "https://localhost:8080/"
        },
        "id": "68VogLZ_XctR",
        "outputId": "ccb35b58-7ba7-40ce-9244-1e766b4e48a7"
      },
      "execution_count": null,
      "outputs": [
        {
          "output_type": "stream",
          "name": "stdout",
          "text": [
            "day 1 of the week\n",
            "day 2 of the week\n",
            "day 3 of the week\n",
            "day 4 of the week\n",
            "day 5 of the week\n",
            "day 6 of the week\n",
            "day 7 of the week\n"
          ]
        }
      ]
    },
    {
      "cell_type": "markdown",
      "source": [
        "###Nested Loops-Creating A Multiplication Table"
      ],
      "metadata": {
        "id": "8SppTdxTYUIB"
      }
    },
    {
      "cell_type": "code",
      "source": [
        "print(\"Multiplication Tbale:\")\n",
        "for i in range(1,6):\n",
        "  for j in range(1,6):\n",
        "    product=i+j\n",
        "    print(f\"{i} X {j} ={product:2d}\",end=\"\")\n",
        "    print()#New line after each one"
      ],
      "metadata": {
        "colab": {
          "base_uri": "https://localhost:8080/"
        },
        "id": "eh84d3XoYboh",
        "outputId": "4e577ec5-5ace-4758-f38e-b9dce565068f"
      },
      "execution_count": null,
      "outputs": [
        {
          "output_type": "stream",
          "name": "stdout",
          "text": [
            "Multiplication Tbale:\n",
            "1 X 1 = 2\n",
            "1 X 2 = 3\n",
            "1 X 3 = 4\n",
            "1 X 4 = 5\n",
            "1 X 5 = 6\n",
            "2 X 1 = 3\n",
            "2 X 2 = 4\n",
            "2 X 3 = 5\n",
            "2 X 4 = 6\n",
            "2 X 5 = 7\n",
            "3 X 1 = 4\n",
            "3 X 2 = 5\n",
            "3 X 3 = 6\n",
            "3 X 4 = 7\n",
            "3 X 5 = 8\n",
            "4 X 1 = 5\n",
            "4 X 2 = 6\n",
            "4 X 3 = 7\n",
            "4 X 4 = 8\n",
            "4 X 5 = 9\n",
            "5 X 1 = 6\n",
            "5 X 2 = 7\n",
            "5 X 3 = 8\n",
            "5 X 4 = 9\n",
            "5 X 5 =10\n"
          ]
        }
      ]
    },
    {
      "cell_type": "markdown",
      "source": [
        "###Processing Data With Loops"
      ],
      "metadata": {
        "id": "rYtWXiHSZaDR"
      }
    },
    {
      "cell_type": "code",
      "source": [
        "sales_data=[\n",
        "    {\"product\":\"laptop\",\"price\":999,\"quantity\":5},\n",
        "    {\"product\":\"phone\",\"price\":599,\"quantity\":10},\n",
        "    {\"product\":\"tablet\",\"price\":399,\"quantity\":8}\n",
        "]\n",
        "\n",
        "total_revenue=0\n",
        "\n",
        "for item in sales_data:\n",
        "  item_revenue=item[\"price\"]*item[\"quantity\"]\n",
        "  total_revenue+=item_revenue\n",
        "  print(f\"{item['product']}:${item_revenue}\")\n",
        "print(f\"Total Revenue:${total_revenue}\")"
      ],
      "metadata": {
        "colab": {
          "base_uri": "https://localhost:8080/"
        },
        "id": "-jStP3A-ZeO5",
        "outputId": "c47dcdc5-8d5e-4d71-b032-b342afeabeee"
      },
      "execution_count": null,
      "outputs": [
        {
          "output_type": "stream",
          "name": "stdout",
          "text": [
            "laptop:$4995\n",
            "phone:$5990\n",
            "tablet:$3192\n",
            "Total Revenue:$14177\n"
          ]
        }
      ]
    },
    {
      "cell_type": "markdown",
      "source": [
        "#Loop-While Loop"
      ],
      "metadata": {
        "id": "WEo3peXiqDKl"
      }
    },
    {
      "cell_type": "markdown",
      "source": [
        "###While Loop For Usr Input simulation"
      ],
      "metadata": {
        "id": "b3NbAU2GuMjG"
      }
    },
    {
      "cell_type": "code",
      "source": [
        "def simple_guessing_game():\n",
        "  target=7\n",
        "  guess=0\n",
        "  attempts=0\n",
        "  print(\"Guess the number between 1 to 10!\")\n",
        "\n",
        "  while guess !=target:\n",
        "\n",
        "    #Simulate user input\n",
        "    import random\n",
        "    guess=random.randint(1,10)\n",
        "    attempts+=1\n",
        "\n",
        "    if guess<target:\n",
        "      print(f\"Guess {attempts}:{guess}-Too Low!\")\n",
        "    elif guess>target:\n",
        "      print(f\"Guess {attempts}:{guess}-Too high!\")\n",
        "    else:\n",
        "      print(f\"Guess {attempts}:{guess}-Correct!\")\n",
        "\n",
        "     #Safety Check\n",
        "    if attempts>10:\n",
        "      print(\"Max attempts reached!!\")\n",
        "      break\n",
        "\n",
        "    print(f\"Game Finished in {attempts} Attempts\")\n",
        "\n",
        "simple_guessing_game()\n"
      ],
      "metadata": {
        "colab": {
          "base_uri": "https://localhost:8080/"
        },
        "id": "AEU-YrOxqJCf",
        "outputId": "90f70bf5-fb0f-4018-b461-c991a62a0837"
      },
      "execution_count": null,
      "outputs": [
        {
          "output_type": "stream",
          "name": "stdout",
          "text": [
            "Guess the number between 1 to 10!\n",
            "Guess 1:7-Correct!\n",
            "Game Finished in 1 Attempts\n"
          ]
        }
      ]
    },
    {
      "cell_type": "markdown",
      "source": [
        "##While Loop For Processing"
      ],
      "metadata": {
        "id": "gu_prnGKy68F"
      }
    },
    {
      "cell_type": "code",
      "source": [
        "def process_queue():\n",
        "  queue=[\"Task1\",\"Task2\",\"Task3\",\"Task4\"]\n",
        "\n",
        "  while queue:\n",
        "    current_task=queue.pop(0) #Remove First item\n",
        "    print(f\"Processing: {current_task}\")\n",
        "\n",
        "    print(f\"Remaining task: {len(queue)}\")\n",
        "\n",
        "  print(\"All tasks Completed!!\")\n",
        "\n",
        "process_queue()"
      ],
      "metadata": {
        "colab": {
          "base_uri": "https://localhost:8080/"
        },
        "id": "WTpWuZILzArX",
        "outputId": "57869479-93f2-4510-f04f-f05476f99293"
      },
      "execution_count": null,
      "outputs": [
        {
          "output_type": "stream",
          "name": "stdout",
          "text": [
            "Processing: Task1\n",
            "Remaining task: 3\n",
            "Processing: Task2\n",
            "Remaining task: 2\n",
            "Processing: Task3\n",
            "Remaining task: 1\n",
            "Processing: Task4\n",
            "Remaining task: 0\n",
            "All tasks Completed!!\n"
          ]
        }
      ]
    },
    {
      "cell_type": "markdown",
      "source": [
        "#**Functions**"
      ],
      "metadata": {
        "id": "JXP0z-io1QGH"
      }
    },
    {
      "cell_type": "markdown",
      "source": [
        "####Function Basics"
      ],
      "metadata": {
        "id": "tRwtguA11TXA"
      }
    },
    {
      "cell_type": "markdown",
      "source": [
        "###Basic Function Definition"
      ],
      "metadata": {
        "id": "X2Pi4xOT3Nyu"
      }
    },
    {
      "cell_type": "code",
      "source": [
        "def greet(name):\n",
        "  return f\"Hello,{name}!\""
      ],
      "metadata": {
        "id": "sMCQ5lUM1hk5"
      },
      "execution_count": null,
      "outputs": []
    },
    {
      "cell_type": "markdown",
      "source": [
        "##Function Call"
      ],
      "metadata": {
        "id": "JfnOcJD617Hf"
      }
    },
    {
      "cell_type": "code",
      "source": [
        "message=greet(\"Python Programmer\")\n",
        "print(message)"
      ],
      "metadata": {
        "colab": {
          "base_uri": "https://localhost:8080/"
        },
        "id": "MGVGo26g1-5m",
        "outputId": "6af01da6-f319-4bf9-cea2-68b72630a193"
      },
      "execution_count": null,
      "outputs": [
        {
          "output_type": "stream",
          "name": "stdout",
          "text": [
            "Hello,Python Programmer!\n"
          ]
        }
      ]
    },
    {
      "cell_type": "markdown",
      "source": [
        "###Function With Multiple Parameters"
      ],
      "metadata": {
        "id": "u20HpG-72Ppe"
      }
    },
    {
      "cell_type": "code",
      "source": [
        "def calculate_area(length,width):\n",
        "  area=length*width\n",
        "  return area"
      ],
      "metadata": {
        "id": "xBJHZSUn2Wo_"
      },
      "execution_count": null,
      "outputs": []
    },
    {
      "cell_type": "markdown",
      "source": [
        "###Test the Function"
      ],
      "metadata": {
        "id": "l2p8h1x_2inf"
      }
    },
    {
      "cell_type": "code",
      "source": [
        "room_area=calculate_area(12,10)\n",
        "print(f\"Room area:{room_area} square feet\")"
      ],
      "metadata": {
        "colab": {
          "base_uri": "https://localhost:8080/"
        },
        "id": "288fpTf62luv",
        "outputId": "38430990-55de-41ab-bbbb-c7e792406c17"
      },
      "execution_count": null,
      "outputs": [
        {
          "output_type": "stream",
          "name": "stdout",
          "text": [
            "Room area:120 square feet\n"
          ]
        }
      ]
    },
    {
      "cell_type": "markdown",
      "source": [
        "###Function With Default Parameters"
      ],
      "metadata": {
        "id": "5mBGDGH421-u"
      }
    },
    {
      "cell_type": "code",
      "source": [
        "def create_user_profile(name,age=18,location=\"Unknow\",active=True):\n",
        "  return{\n",
        "      \"name\":name,\n",
        "      \"age\":age,\n",
        "      \"location\":location,\n",
        "      \"active\":active\n",
        "  }"
      ],
      "metadata": {
        "id": "M3ydzVf827Sf"
      },
      "execution_count": null,
      "outputs": []
    },
    {
      "cell_type": "markdown",
      "source": [
        "##Different Ways To Call"
      ],
      "metadata": {
        "id": "5HguLZFQ4yqe"
      }
    },
    {
      "cell_type": "code",
      "source": [
        "profile1=create_user_profile(\"Alice\")#use defaults\n",
        "profile2=create_user_profile(\"Bob\",25)#Override age\n",
        "profile3=create_user_profile(\"Charlie\",location=\"New York\",age=30)#Named parameters\n",
        "\n",
        "print(f\"profile1:{profile1}\")\n",
        "print(f\"profile2:{profile2}\")\n",
        "print(f\"profile3:{profile3}\")\n"
      ],
      "metadata": {
        "colab": {
          "base_uri": "https://localhost:8080/"
        },
        "id": "n3B990Cd5IfW",
        "outputId": "27646248-94d7-4a55-eb33-5ddd4f82db4c"
      },
      "execution_count": null,
      "outputs": [
        {
          "output_type": "stream",
          "name": "stdout",
          "text": [
            "profile1:{'name': 'Alice', 'age': 18, 'location': 'Unknow', 'active': True}\n",
            "profile2:{'name': 'Bob', 'age': 25, 'location': 'Unknow', 'active': True}\n",
            "profile3:{'name': 'Charlie', 'age': 30, 'location': 'New York', 'active': True}\n"
          ]
        }
      ]
    },
    {
      "cell_type": "markdown",
      "source": [
        "#**Advanced Function Concepts**"
      ],
      "metadata": {
        "id": "CpjaCb3X7ofP"
      }
    },
    {
      "cell_type": "markdown",
      "source": [
        "###Function Returning Multiple values"
      ],
      "metadata": {
        "id": "2QpcnOg372yW"
      }
    },
    {
      "cell_type": "code",
      "source": [
        "def analyze_text(text):\n",
        "  words=text.split()\n",
        "  word_count=len(words)\n",
        "  char_count=len(text)\n",
        "  char_count_no_spaces=len(text.replace(\" \",\"\"))\n",
        "\n",
        "  return word_count,char_count,char_count_no_spaces"
      ],
      "metadata": {
        "id": "cBcIQher795u"
      },
      "execution_count": null,
      "outputs": []
    },
    {
      "cell_type": "markdown",
      "source": [
        "###Test with Sample Text"
      ],
      "metadata": {
        "id": "J_Bt6JaX9fdH"
      }
    },
    {
      "cell_type": "code",
      "source": [
        "sample_text=\"Python is a Powerful Programing Language\"\n",
        "\n",
        "words,chars,chars_no_space=analyze_text(sample_text)\n",
        "\n",
        "print(f\"Text:'{sample_text}'\")\n",
        "print(f\"Word count:{words}\")\n",
        "print(f\"Charater count:{chars}\")\n",
        "print(f\"Charater(no_spaces):{chars_no_space}\")"
      ],
      "metadata": {
        "colab": {
          "base_uri": "https://localhost:8080/"
        },
        "id": "qHiCxvXE9miA",
        "outputId": "7ab4e4a5-b9a0-461b-a030-8e86998e681d"
      },
      "execution_count": null,
      "outputs": [
        {
          "output_type": "stream",
          "name": "stdout",
          "text": [
            "Text:'Python is a Powerful Programing Language'\n",
            "Word count:6\n",
            "Charater count:40\n",
            "Charater(no_spaces):35\n"
          ]
        }
      ]
    },
    {
      "cell_type": "markdown",
      "source": [
        "###Variable-length Arguments"
      ],
      "metadata": {
        "id": "5Om_OQSj_2OO"
      }
    },
    {
      "cell_type": "code",
      "source": [
        "def calculate_average(*numbers):\n",
        "  if not numbers:\n",
        "    return 0\n",
        "\n",
        "  return sum(numbers)/len(numbers)\n"
      ],
      "metadata": {
        "id": "e7Bs71pP_7l4"
      },
      "execution_count": null,
      "outputs": []
    },
    {
      "cell_type": "markdown",
      "source": [
        "###Test With Different Numbers Of Arguments"
      ],
      "metadata": {
        "id": "P4j6HyKKAL_Y"
      }
    },
    {
      "cell_type": "code",
      "source": [
        "avg1=calculate_average(10,20,30)\n",
        "avg2=calculate_average(5,15,25,35,45)\n",
        "avg3=calculate_average(100)\n",
        "\n",
        "print(f\"Average of 10,20,30: {avg1}\")\n",
        "print(f\"Average of 5,15,25,35,45: {avg2}\")\n",
        "print(f\"Average of 100: {avg3}\")"
      ],
      "metadata": {
        "colab": {
          "base_uri": "https://localhost:8080/"
        },
        "id": "ctwudN2RATLw",
        "outputId": "e0db3eb0-3f4c-4582-9ef6-3f761f139fe5"
      },
      "execution_count": null,
      "outputs": [
        {
          "output_type": "stream",
          "name": "stdout",
          "text": [
            "Average of 10,20,30: 20.0\n",
            "Average of 5,15,25,35,45: 25.0\n",
            "Average of 100: 100.0\n"
          ]
        }
      ]
    },
    {
      "cell_type": "markdown",
      "source": [
        "###Keyword Arguments"
      ],
      "metadata": {
        "id": "ouwzrdSHBFHf"
      }
    },
    {
      "cell_type": "code",
      "source": [
        "def create_report(**data):\n",
        "  print(\"==REPORT==\")\n",
        "\n",
        "  for key,value in data.items():\n",
        "    print(f\"{key.replace('_',' ').title()}:{value}\")\n",
        "\n",
        "  print(\"=============================\")\n",
        "\n",
        "create_report(\n",
        "    title=\"Monthly sales reports\",\n",
        "    data=\"2024-01-01\",\n",
        "    total_sales=15000,\n",
        "    new_customers=25,\n",
        "    returning_customers=150\n",
        "    )\n"
      ],
      "metadata": {
        "colab": {
          "base_uri": "https://localhost:8080/"
        },
        "id": "OFzCO1fjBVBH",
        "outputId": "8b58c1e1-9b2b-46ee-aafd-eccc2a97314b"
      },
      "execution_count": null,
      "outputs": [
        {
          "output_type": "stream",
          "name": "stdout",
          "text": [
            "==REPORT==\n",
            "Title:Monthly sales reports\n",
            "Data:2024-01-01\n",
            "Total Sales:15000\n",
            "New Customers:25\n",
            "Returning Customers:150\n",
            "=============================\n"
          ]
        }
      ]
    },
    {
      "cell_type": "markdown",
      "source": [
        "##**Lambda Functions**"
      ],
      "metadata": {
        "id": "UttOWHNBDYb3"
      }
    },
    {
      "cell_type": "markdown",
      "source": [
        "###Lambda Function(Anonymous Function)"
      ],
      "metadata": {
        "id": "rl-yfTuFDe0H"
      }
    },
    {
      "cell_type": "markdown",
      "source": [
        "####Regular Functions"
      ],
      "metadata": {
        "id": "qBj247NhDs7o"
      }
    },
    {
      "cell_type": "code",
      "source": [
        "def square(x):\n",
        "  return x**2"
      ],
      "metadata": {
        "id": "EIMAh-fsDdPW"
      },
      "execution_count": null,
      "outputs": []
    },
    {
      "cell_type": "markdown",
      "source": [
        "####Lambda equivalent"
      ],
      "metadata": {
        "id": "lrT1HeqMFlBY"
      }
    },
    {
      "cell_type": "code",
      "source": [
        "square_lambda=lambda x:x**2\n",
        "print(f\"Regular Function:{square(5)}\")\n",
        "print(f\"Lambda Function:{square_lambda(5)}\")"
      ],
      "metadata": {
        "colab": {
          "base_uri": "https://localhost:8080/"
        },
        "id": "scJnQOShFrmQ",
        "outputId": "4a7389b6-b152-4649-babb-4bf18764e1ff"
      },
      "execution_count": null,
      "outputs": [
        {
          "output_type": "stream",
          "name": "stdout",
          "text": [
            "Regular Function:25\n",
            "Lambda Function:25\n"
          ]
        }
      ]
    },
    {
      "cell_type": "markdown",
      "source": [
        "###Lambda With Multiple Arguments"
      ],
      "metadata": {
        "id": "EubygIOlG5og"
      }
    },
    {
      "cell_type": "code",
      "source": [
        "multiply=lambda x,y:x*y\n",
        "print(f\"Multiply:{multiply(3,4)}\")"
      ],
      "metadata": {
        "colab": {
          "base_uri": "https://localhost:8080/"
        },
        "id": "wnH-2U9KHAGX",
        "outputId": "f59fe96c-a01d-4cee-dd1c-cccb741d3575"
      },
      "execution_count": null,
      "outputs": [
        {
          "output_type": "stream",
          "name": "stdout",
          "text": [
            "Multiply:12\n"
          ]
        }
      ]
    },
    {
      "cell_type": "markdown",
      "source": [
        "###Lambda With Built-in Function"
      ],
      "metadata": {
        "id": "TEsku52AHQuo"
      }
    },
    {
      "cell_type": "code",
      "source": [
        "numbers=[1,2,3,4,5]\n",
        "squared=list(map(lambda x:x**2,numbers))\n",
        "print(f\"Squared Numbers:{squared}\")"
      ],
      "metadata": {
        "colab": {
          "base_uri": "https://localhost:8080/"
        },
        "id": "b24EHCrGHVYQ",
        "outputId": "823c179d-bacb-4e5d-9696-3004bbe548d2"
      },
      "execution_count": null,
      "outputs": [
        {
          "output_type": "stream",
          "name": "stdout",
          "text": [
            "Squared Numbers:[1, 4, 9, 16, 25]\n"
          ]
        }
      ]
    },
    {
      "cell_type": "markdown",
      "source": [
        "####Filtring With lambda"
      ],
      "metadata": {
        "id": "by5l8-kKIC5Y"
      }
    },
    {
      "cell_type": "code",
      "source": [
        "ages=[16,21,35,12,45,18,67]\n",
        "adults=list(filter(lambda age:age>=18,ages))\n",
        "print(f\"Adult ages:{adults}\")"
      ],
      "metadata": {
        "colab": {
          "base_uri": "https://localhost:8080/"
        },
        "id": "Tv_pVfUVIIpA",
        "outputId": "571dace6-0a5e-48e1-b14b-e49135ff71fc"
      },
      "execution_count": null,
      "outputs": [
        {
          "output_type": "stream",
          "name": "stdout",
          "text": [
            "Adult ages:[21, 35, 45, 18, 67]\n"
          ]
        }
      ]
    },
    {
      "cell_type": "markdown",
      "source": [
        "###Sorting With Lambda"
      ],
      "metadata": {
        "id": "-KsrP15aIu7g"
      }
    },
    {
      "cell_type": "code",
      "source": [
        "people=[\n",
        "    {\"name\":\"Alice\",\"age\":30},\n",
        "    {\"name\":\"Bob\",\"age\":25},\n",
        "    {\"name\":\"Charlie\",\"age\":35}\n",
        "]\n",
        "\n",
        "sorted_people=sorted(\n",
        "    people,\n",
        "    key=lambda person:person[\"age\"]\n",
        ")\n",
        "print(\"People Sorted by age\")\n",
        "\n",
        "for person in sorted_people:\n",
        "  print(f\"{person['name']}:{person['age']}\")"
      ],
      "metadata": {
        "colab": {
          "base_uri": "https://localhost:8080/"
        },
        "id": "gqf0iqM6IyyX",
        "outputId": "32c80299-7cfb-4c63-a774-384eb441bc85"
      },
      "execution_count": null,
      "outputs": [
        {
          "output_type": "stream",
          "name": "stdout",
          "text": [
            "People Sorted by age\n",
            "Bob:25\n",
            "Alice:30\n",
            "Charlie:35\n"
          ]
        }
      ]
    }
  ]
}